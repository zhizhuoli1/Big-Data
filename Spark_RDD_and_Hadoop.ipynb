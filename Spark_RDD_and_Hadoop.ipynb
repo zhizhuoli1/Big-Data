{
  "nbformat": 4,
  "nbformat_minor": 0,
  "metadata": {
    "colab": {
      "name": "Spark RDD and Hadoop.ipynb",
      "provenance": [],
      "collapsed_sections": [],
      "authorship_tag": "ABX9TyNqP12ob9sVaqR5IMleDeGX",
      "include_colab_link": true
    },
    "kernelspec": {
      "name": "python3",
      "display_name": "Python 3"
    },
    "language_info": {
      "name": "python"
    }
  },
  "cells": [
    {
      "cell_type": "markdown",
      "metadata": {
        "id": "view-in-github",
        "colab_type": "text"
      },
      "source": [
        "<a href=\"https://colab.research.google.com/github/zhizhuoli1/Big-Data/blob/main/Spark_RDD_and_Hadoop.ipynb\" target=\"_parent\"><img src=\"https://colab.research.google.com/assets/colab-badge.svg\" alt=\"Open In Colab\"/></a>"
      ]
    },
    {
      "cell_type": "markdown",
      "metadata": {
        "id": "CNQ9BQBi3xHx"
      },
      "source": [
        "# Spark RDD and Hadoop - Zhizhuo Li"
      ]
    },
    {
      "cell_type": "markdown",
      "metadata": {
        "id": "FyX3WYLTp_8D"
      },
      "source": [
        "## 1. Set Up the environment"
      ]
    },
    {
      "cell_type": "code",
      "metadata": {
        "id": "Ctt-qzvBqQN_",
        "colab": {
          "base_uri": "https://localhost:8080/"
        },
        "outputId": "f054c563-f291-467a-f755-ccf9a249e1f1"
      },
      "source": [
        "# Update environment (if needed)\n",
        "# !sudo apt update\n",
        "\n",
        "# Download and install Java\n",
        "!sudo apt-get install openjdk-8-jdk-headless -qq > /dev/null\n",
        "\n",
        "# Install Apache Spark 3.0.3 with Hadoop 3.2\n",
        "!wget -nc -q https://downloads.apache.org/spark/spark-3.0.3/spark-3.0.3-bin-hadoop3.2.tgz\n",
        "\n",
        "# Unzip the folder\n",
        "!tar xf  spark-3.0.3-bin-hadoop3.2.tgz\n",
        "\n",
        "# Install findspark library that will locate Spark on the system\n",
        "!pip install -q findspark"
      ],
      "execution_count": 1,
      "outputs": [
        {
          "output_type": "stream",
          "name": "stdout",
          "text": [
            "debconf: unable to initialize frontend: Dialog\n",
            "debconf: (No usable dialog-like program is installed, so the dialog based frontend cannot be used. at /usr/share/perl5/Debconf/FrontEnd/Dialog.pm line 76, <> line 2.)\n",
            "debconf: falling back to frontend: Readline\n",
            "debconf: unable to initialize frontend: Readline\n",
            "debconf: (This frontend requires a controlling tty.)\n",
            "debconf: falling back to frontend: Teletype\n",
            "dpkg-preconfigure: unable to re-open stdin: \n"
          ]
        }
      ]
    },
    {
      "cell_type": "code",
      "metadata": {
        "id": "U_OpRGBspmlr"
      },
      "source": [
        "# Setting the environment variables, to enable running PySpark in Colab environment.\n",
        "\n",
        "import os\n",
        "import shutil\n",
        "from itertools import islice\n",
        "import requests\n",
        "\n",
        "os.environ[\"JAVA_HOME\"] = \"/usr/lib/jvm/java-8-openjdk-amd64\"\n",
        "os.environ[\"SPARK_HOME\"] = \"/content/spark-3.0.3-bin-hadoop3.2\""
      ],
      "execution_count": 2,
      "outputs": []
    },
    {
      "cell_type": "code",
      "metadata": {
        "id": "-0XJ-WgxqGXF"
      },
      "source": [
        "# Locate Spark in the system\n",
        "\n",
        "import findspark\n",
        "findspark.init()"
      ],
      "execution_count": 3,
      "outputs": []
    },
    {
      "cell_type": "code",
      "metadata": {
        "colab": {
          "base_uri": "https://localhost:8080/",
          "height": 58
        },
        "id": "DhIzhffTqLRi",
        "outputId": "9500d182-a31b-445f-ba1a-97079f1a5b86"
      },
      "source": [
        "from pyspark.sql import SparkSession\n",
        "from pyspark.sql.functions import *\n",
        "#from pyspark.sql import functions as F\n",
        "from pyspark.sql.types import *\n",
        "\n",
        "# Create spark_session\n",
        "spark = SparkSession.builder.getOrCreate()\n",
        "sc = spark.sparkContext\n",
        "\n",
        "spark.version\n",
        "\n",
        "# Create spark_session\n",
        "spark = SparkSession.builder.getOrCreate()\n",
        "sc = spark.sparkContext\n",
        "\n",
        "spark.version"
      ],
      "execution_count": 4,
      "outputs": [
        {
          "output_type": "execute_result",
          "data": {
            "application/vnd.google.colaboratory.intrinsic+json": {
              "type": "string"
            },
            "text/plain": [
              "'3.0.3'"
            ]
          },
          "metadata": {},
          "execution_count": 4
        }
      ]
    },
    {
      "cell_type": "markdown",
      "metadata": {
        "id": "_Iy96MA3qW0p"
      },
      "source": [
        "## 2. Copy the file into your own directory in Google Drive"
      ]
    },
    {
      "cell_type": "code",
      "metadata": {
        "colab": {
          "base_uri": "https://localhost:8080/"
        },
        "id": "OGT3tYUcqGZU",
        "outputId": "90b91d06-8c04-495d-d4bc-e425b8c9f867"
      },
      "source": [
        "# Load the Drive helper and mount\n",
        "from google.colab import drive\n",
        "\n",
        "# This will prompt for authorization.\n",
        "drive.mount('/content/drive')"
      ],
      "execution_count": 5,
      "outputs": [
        {
          "output_type": "stream",
          "name": "stdout",
          "text": [
            "Mounted at /content/drive\n"
          ]
        }
      ]
    },
    {
      "cell_type": "code",
      "metadata": {
        "id": "_zcR0a-7sJ1m"
      },
      "source": [
        "#define self helper function to import the file\n",
        "def get_gcs_data (bucket_name, folder_name, file_name, path_gdrive):\n",
        "    url = 'https://storage.googleapis.com/' + bucket_name + '/' + folder_name + '/' + file_name\n",
        "    r = requests.get(url)\n",
        "    open(path_gdrive + '/' + file_name , 'wb').write(r.content)"
      ],
      "execution_count": 6,
      "outputs": []
    },
    {
      "cell_type": "code",
      "metadata": {
        "colab": {
          "base_uri": "https://localhost:8080/"
        },
        "id": "kQMZ0xxjsN_8",
        "outputId": "355dea01-c75a-4851-c571-754adc2370a1"
      },
      "source": [
        "#import the data\n",
        "bucket_name = 'msca-bdp-data-open'\n",
        "folder_name = 'austin'\n",
        "file_name = ['Municipal_Court_Caseload_Information.zip']\n",
        "path_gdrive = '/content/drive/My Drive/BigData/'\n",
        "os.makedirs(path_gdrive, exist_ok=True)\n",
        "\n",
        "for file in file_name:\n",
        "    get_gcs_data (bucket_name = bucket_name,\n",
        "                 folder_name = folder_name,\n",
        "                 file_name = file,\n",
        "                 path_gdrive = path_gdrive)\n",
        "    print('Downloaded: ' + file)"
      ],
      "execution_count": 7,
      "outputs": [
        {
          "output_type": "stream",
          "name": "stdout",
          "text": [
            "Downloaded: Municipal_Court_Caseload_Information.zip\n"
          ]
        }
      ]
    },
    {
      "cell_type": "code",
      "metadata": {
        "colab": {
          "base_uri": "https://localhost:8080/"
        },
        "id": "mUjrAFfzsDdH",
        "outputId": "8447d498-1a02-4e97-c795-0e0fee02d9c5"
      },
      "source": [
        "#list all files in the folder\n",
        "!ls -l '/content/drive/My Drive/BigData/'"
      ],
      "execution_count": 8,
      "outputs": [
        {
          "output_type": "stream",
          "name": "stdout",
          "text": [
            "total 92327\n",
            "drwx------ 2 root root     4096 Oct 23 01:27  age_date_income\n",
            "drwx------ 2 root root     4096 Oct 22 23:25  airbnb\n",
            "drwx------ 2 root root     4096 Oct 22 23:18  airlines\n",
            "drwx------ 2 root root     4096 Oct 27 17:05 'Assignment 4'\n",
            "drwx------ 2 root root     4096 Oct 31 18:19 'Assignment 6'\n",
            "drwx------ 2 root root     4096 Nov  8 17:04 'Assignment 8'\n",
            "-rw------- 1 root root    61898 Oct 23 01:28  BDP_Class_04.1_Colab_Spark_RDD_Struct_v5.ipynb\n",
            "-rw------- 1 root root    36292 Oct 23 01:41  BDP_Class_04.2_Colab_Spark_RDD_Text_v3.ipynb\n",
            "-rw------- 1 root root   194307 Nov  6 01:57  BDP_Class_05.1_Colab_Spark_DF_v2.ipynb\n",
            "drwx------ 2 root root     4096 Oct 22 23:25  books\n",
            "drwx------ 2 root root     4096 Oct 23 01:05  insurance\n",
            "drwx------ 2 root root     4096 Oct 30 01:11  Insurance\n",
            "-rw------- 1 root root      204 Oct 29 23:18  Insurance.csv\n",
            "-rw------- 1 root root 94212181 Nov 12 21:01  Municipal_Court_Caseload_Information.zip\n"
          ]
        }
      ]
    },
    {
      "cell_type": "code",
      "metadata": {
        "colab": {
          "base_uri": "https://localhost:8080/"
        },
        "id": "FPrxbih4s5Lr",
        "outputId": "98e93298-e179-4442-8142-1d3162c551f6"
      },
      "source": [
        "#unzip and inflate the zip file\n",
        "!unzip '/content/drive/My Drive/BigData/Municipal_Court_Caseload_Information.zip' -d '/content/drive/My Drive/BigData/'"
      ],
      "execution_count": 10,
      "outputs": [
        {
          "output_type": "stream",
          "name": "stdout",
          "text": [
            "Archive:  /content/drive/My Drive/BigData/Municipal_Court_Caseload_Information.zip\n",
            "  inflating: /content/drive/My Drive/BigData/Municipal_Court_Caseload_Information.csv  \n"
          ]
        }
      ]
    },
    {
      "cell_type": "markdown",
      "metadata": {
        "id": "NeQpceVgvFtA"
      },
      "source": [
        "## 3. Read the data into Spark RDD"
      ]
    },
    {
      "cell_type": "code",
      "metadata": {
        "colab": {
          "base_uri": "https://localhost:8080/"
        },
        "id": "Ovap4h7UuraV",
        "outputId": "c938a0d1-b449-4703-da0a-ab9c8b8491e8"
      },
      "source": [
        "#read the data into spark RDD\n",
        "mcci_raw = sc.textFile('/content/drive/My Drive/BigData/Assignment 4/Municipal_Court_Caseload_Information.csv')\n",
        "#ensure your process the header record correctly\n",
        "mcci = mcci_raw.mapPartitionsWithIndex(lambda i, iter: islice(iter, 1, None) if i == 0 else iter)\n",
        "mcci.count()"
      ],
      "execution_count": 11,
      "outputs": [
        {
          "output_type": "execute_result",
          "data": {
            "text/plain": [
              "8485776"
            ]
          },
          "metadata": {},
          "execution_count": 11
        }
      ]
    },
    {
      "cell_type": "code",
      "metadata": {
        "colab": {
          "base_uri": "https://localhost:8080/"
        },
        "id": "ny0I0RkqyUpl",
        "outputId": "9d6d9e16-dd68-43a6-e14b-86541a4e4d30"
      },
      "source": [
        "mcci.take(10)"
      ],
      "execution_count": 13,
      "outputs": [
        {
          "output_type": "execute_result",
          "data": {
            "text/plain": [
              "['TR,04/29/2010 07:00:00 AM +0000,22.40.00,FAILED TO MAINTAIN FINANCIAL RESPONSIBILITY,8000 BLOCK RESEARCH,N, ,N,N,Y',\n",
              " 'TR,04/29/2010 07:00:00 AM +0000,22.40.00,FAILURE TO SIGNAL INTENT TO CHANGE LANES,8000 BLOCK RESEARCH,N, ,N,N,Y',\n",
              " 'TR,04/29/2010 07:00:00 AM +0000,20.00.00,SPEEDING-STATE HIGHWAYS,1000 BLOCK NORTH U S 183,N, ,N,N,Y',\n",
              " 'TR,04/29/2010 07:00:00 AM +0000,20.00.00,NO SEAT BELT-DRIVER/PASSENGER,1000 BLOCK NORTH U S 183,N, ,N,N,Y',\n",
              " 'TR,04/29/2010 07:00:00 AM +0000,23.45.00,SPEEDING - STATE HIGHWAYS - Less than 10% over limit,1000 BLOCK RESEARCH,N, ,N,N,Y',\n",
              " 'PK,05/05/2010 07:00:00 AM +0000,15.28.00,PAY STATION RECEIPT NOT DISPLAYED,700 10TH ST W,N, ,N,N,Y',\n",
              " 'PK,05/05/2010 07:00:00 AM +0000,15.23.00,EXPIRED PAY STATION RECEIPT,800 RIO GRANDE ST,N, ,N,N,Y',\n",
              " 'PK,05/05/2010 07:00:00 AM +0000,15.22.00,EXPIRED PAY STATION RECEIPT,800 RIO GRANDE ST,N, ,N,N,Y',\n",
              " 'PK,05/05/2010 07:00:00 AM +0000,15.18.00,EXPIRED PAY STATION RECEIPT,900 RIO GRANDE ST,N, ,N,N,Y',\n",
              " 'PK,05/05/2010 07:00:00 AM +0000,14.58.00,PAY STATION RECEIPT NOT DISPLAYED,900 SAN ANT. ST,N, ,N,N,Y']"
            ]
          },
          "metadata": {},
          "execution_count": 13
        }
      ]
    },
    {
      "cell_type": "markdown",
      "metadata": {
        "id": "Ig-giwM5yon-"
      },
      "source": [
        "## 4. Calculate frequency of offenses by Offense Case Type"
      ]
    },
    {
      "cell_type": "code",
      "metadata": {
        "id": "uO93rYMuyqEC"
      },
      "source": [
        "#take the offense Case Type Variable\n",
        "OffenseCaseType = mcci.map(lambda s: s.split(\",\")[0]) "
      ],
      "execution_count": 14,
      "outputs": []
    },
    {
      "cell_type": "code",
      "metadata": {
        "colab": {
          "base_uri": "https://localhost:8080/"
        },
        "id": "44OxVGp_z2bF",
        "outputId": "325d0855-d2b5-4b82-c3fc-76cb8100793e"
      },
      "source": [
        "OffenseCaseType.take(5)"
      ],
      "execution_count": 15,
      "outputs": [
        {
          "output_type": "execute_result",
          "data": {
            "text/plain": [
              "['TR', 'TR', 'TR', 'TR', 'TR']"
            ]
          },
          "metadata": {},
          "execution_count": 15
        }
      ]
    },
    {
      "cell_type": "code",
      "metadata": {
        "id": "1TuuQz8PzdWc"
      },
      "source": [
        "#map 1 to each row for offense case type\n",
        "OCT = OffenseCaseType.map(lambda x: (x, 1))"
      ],
      "execution_count": 16,
      "outputs": []
    },
    {
      "cell_type": "code",
      "metadata": {
        "colab": {
          "base_uri": "https://localhost:8080/"
        },
        "id": "OwmRZkxB0Lk5",
        "outputId": "bb35a0d9-8bb5-429e-dc49-29920aac583d"
      },
      "source": [
        "OCT.take(5)"
      ],
      "execution_count": 17,
      "outputs": [
        {
          "output_type": "execute_result",
          "data": {
            "text/plain": [
              "[('TR', 1), ('TR', 1), ('TR', 1), ('TR', 1), ('TR', 1)]"
            ]
          },
          "metadata": {},
          "execution_count": 17
        }
      ]
    },
    {
      "cell_type": "code",
      "metadata": {
        "colab": {
          "base_uri": "https://localhost:8080/"
        },
        "id": "RnIcz5vg0QP4",
        "outputId": "107913b9-5970-4ee2-a5d2-2bf357c81eb1"
      },
      "source": [
        "#reduce the key to see the frequency for each Offense Case Type\n",
        "frequency_type = OCT.reduceByKey(lambda x,y:x+y)\n",
        "#use collect() to show all results since we know offense case type is finite - we should use take() if possible hugh number of categories \n",
        "frequency_type.take(10)"
      ],
      "execution_count": 18,
      "outputs": [
        {
          "output_type": "execute_result",
          "data": {
            "text/plain": [
              "[('TR', 4313221),\n",
              " ('PK', 3388981),\n",
              " ('CM', 319078),\n",
              " ('CO', 240308),\n",
              " ('RL', 224188)]"
            ]
          },
          "metadata": {},
          "execution_count": 18
        }
      ]
    },
    {
      "cell_type": "markdown",
      "metadata": {
        "id": "d4VHs91D0awf"
      },
      "source": [
        "## 5. Identify the most frequent offenses by Offense Charge Description (Show Offense Charge Description and offense frequency count in descending order)"
      ]
    },
    {
      "cell_type": "code",
      "metadata": {
        "id": "qS17gaPK0eVf"
      },
      "source": [
        "#take the offense Charge Description Variable\n",
        "OffenseDescrip = mcci.map(lambda s: s.split(\",\")[3]) "
      ],
      "execution_count": 19,
      "outputs": []
    },
    {
      "cell_type": "code",
      "metadata": {
        "colab": {
          "base_uri": "https://localhost:8080/"
        },
        "id": "s87Pm4XN1L20",
        "outputId": "f72a1f39-9d20-42d1-f25d-afbacb77cc15"
      },
      "source": [
        "OffenseDescrip.take(5)"
      ],
      "execution_count": 20,
      "outputs": [
        {
          "output_type": "execute_result",
          "data": {
            "text/plain": [
              "['FAILED TO MAINTAIN FINANCIAL RESPONSIBILITY',\n",
              " 'FAILURE TO SIGNAL INTENT TO CHANGE LANES',\n",
              " 'SPEEDING-STATE HIGHWAYS',\n",
              " 'NO SEAT BELT-DRIVER/PASSENGER',\n",
              " 'SPEEDING - STATE HIGHWAYS - Less than 10% over limit']"
            ]
          },
          "metadata": {},
          "execution_count": 20
        }
      ]
    },
    {
      "cell_type": "code",
      "metadata": {
        "id": "503zoRgJ1PcD"
      },
      "source": [
        "#map 1 to each row for offense charge description\n",
        "OD = OffenseDescrip.map(lambda x: (x, 1))"
      ],
      "execution_count": 21,
      "outputs": []
    },
    {
      "cell_type": "code",
      "metadata": {
        "colab": {
          "base_uri": "https://localhost:8080/"
        },
        "id": "ngofyIgq1WI3",
        "outputId": "915037c3-74c4-49f3-bdb1-0402c937419e"
      },
      "source": [
        "OD.take(5)"
      ],
      "execution_count": 22,
      "outputs": [
        {
          "output_type": "execute_result",
          "data": {
            "text/plain": [
              "[('FAILED TO MAINTAIN FINANCIAL RESPONSIBILITY', 1),\n",
              " ('FAILURE TO SIGNAL INTENT TO CHANGE LANES', 1),\n",
              " ('SPEEDING-STATE HIGHWAYS', 1),\n",
              " ('NO SEAT BELT-DRIVER/PASSENGER', 1),\n",
              " ('SPEEDING - STATE HIGHWAYS - Less than 10% over limit', 1)]"
            ]
          },
          "metadata": {},
          "execution_count": 22
        }
      ]
    },
    {
      "cell_type": "code",
      "metadata": {
        "id": "1T3vqSgr1ZU-",
        "colab": {
          "base_uri": "https://localhost:8080/"
        },
        "outputId": "981f345f-98f8-40c7-90f4-ebd76797325f"
      },
      "source": [
        "#reduce the key to see the frequency for each Offense Case Type\n",
        "frequency_description = OD.reduceByKey(lambda x,y:x+y)\n",
        "frequency_description.take(5)"
      ],
      "execution_count": 23,
      "outputs": [
        {
          "output_type": "execute_result",
          "data": {
            "text/plain": [
              "[('BICYCLE - RAN RED LIGHT', 2397),\n",
              " ('RAN RED LIGHT', 157783),\n",
              " ('CMV - UNSAFE CONDITION-396 3 A 1', 509),\n",
              " ('PARKING - SIDEWALK AREA', 9918),\n",
              " ('CAMPING IN A PUBLIC AREA', 12144)]"
            ]
          },
          "metadata": {},
          "execution_count": 23
        }
      ]
    },
    {
      "cell_type": "code",
      "metadata": {
        "id": "oNzCYKdM2tyn",
        "colab": {
          "base_uri": "https://localhost:8080/"
        },
        "outputId": "2352161f-f0e4-43ee-aaf4-8a411c9ada2b"
      },
      "source": [
        "#switch the position of description and frequency\n",
        "frequency_description2 = frequency_description.map(lambda x:(x[1],x[0]))\n",
        "frequency_description2.take(5)"
      ],
      "execution_count": 24,
      "outputs": [
        {
          "output_type": "execute_result",
          "data": {
            "text/plain": [
              "[(2397, 'BICYCLE - RAN RED LIGHT'),\n",
              " (157783, 'RAN RED LIGHT'),\n",
              " (509, 'CMV - UNSAFE CONDITION-396 3 A 1'),\n",
              " (9918, 'PARKING - SIDEWALK AREA'),\n",
              " (12144, 'CAMPING IN A PUBLIC AREA')]"
            ]
          },
          "metadata": {},
          "execution_count": 24
        }
      ]
    },
    {
      "cell_type": "code",
      "metadata": {
        "id": "pprrK24C29VK",
        "colab": {
          "base_uri": "https://localhost:8080/"
        },
        "outputId": "6f52b2eb-84ae-4f5a-d087-9b8ccde07634"
      },
      "source": [
        "#sort the input RDD by the key value\n",
        "frequency_description_sort = frequency_description2.sortByKey(ascending=False)\n",
        "frequency_description_sort.take(5)"
      ],
      "execution_count": 25,
      "outputs": [
        {
          "output_type": "execute_result",
          "data": {
            "text/plain": [
              "[(892013, 'PAY STATION RECEIPT NOT DISPLAYED'),\n",
              " (732605, 'EXPIRED PAY STATION RECEIPT'),\n",
              " (486576, 'SPEEDING-STATE HIGHWAYS'),\n",
              " (372339, 'NO DRIVERS LICENSE'),\n",
              " (345162, 'SPEEDING - POSTED CITY STREET')]"
            ]
          },
          "metadata": {},
          "execution_count": 25
        }
      ]
    },
    {
      "cell_type": "markdown",
      "metadata": {
        "id": "lYWRu5aV3Sj9"
      },
      "source": [
        "The most frequent offenses by Offense Charge Description is 'PAY STATION RECEIPT NOT DISPLAYED' with frequency of 892013."
      ]
    },
    {
      "cell_type": "markdown",
      "metadata": {
        "id": "ItK5wVo_6hlN"
      },
      "source": [
        "## 6. Release the memory"
      ]
    },
    {
      "cell_type": "code",
      "metadata": {
        "colab": {
          "base_uri": "https://localhost:8080/"
        },
        "id": "lwXgWPIW6g72",
        "outputId": "8b2d0ff3-25f4-467c-8857-491a2b0d8df9"
      },
      "source": [
        "OffenseCaseType.unpersist()\n",
        "OffenseDescrip.unpersist()"
      ],
      "execution_count": 26,
      "outputs": [
        {
          "output_type": "execute_result",
          "data": {
            "text/plain": [
              "PythonRDD[31] at RDD at PythonRDD.scala:53"
            ]
          },
          "metadata": {},
          "execution_count": 26
        }
      ]
    }
  ]
}